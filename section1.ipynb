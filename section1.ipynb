{
  "nbformat": 4,
  "nbformat_minor": 0,
  "metadata": {
    "colab": {
      "provenance": [],
      "authorship_tag": "ABX9TyPCUqpfC03jh5tLKCF1q0PF",
      "include_colab_link": true
    },
    "kernelspec": {
      "name": "ir",
      "display_name": "R"
    },
    "language_info": {
      "name": "R"
    }
  },
  "cells": [
    {
      "cell_type": "markdown",
      "metadata": {
        "id": "view-in-github",
        "colab_type": "text"
      },
      "source": [
        "<a href=\"https://colab.research.google.com/github/YashJ1825/Database-and-analitics/blob/main/section1.ipynb\" target=\"_parent\"><img src=\"https://colab.research.google.com/assets/colab-badge.svg\" alt=\"Open In Colab\"/></a>"
      ]
    },
    {
      "cell_type": "code",
      "execution_count": null,
      "metadata": {
        "colab": {
          "base_uri": "https://localhost:8080/",
          "height": 899
        },
        "id": "owvzDTAx16xw",
        "outputId": "7eefc3bf-49b3-465a-c1ed-5963c1f506a2"
      },
      "outputs": [
        {
          "output_type": "stream",
          "name": "stderr",
          "text": [
            "Installing package into ‘/usr/local/lib/R/site-library’\n",
            "(as ‘lib’ is unspecified)\n",
            "\n",
            "also installing the dependencies ‘plogr’, ‘gsubfn’, ‘proto’, ‘RSQLite’, ‘chron’\n",
            "\n",
            "\n",
            "Installing package into ‘/usr/local/lib/R/site-library’\n",
            "(as ‘lib’ is unspecified)\n",
            "\n",
            "Installing package into ‘/usr/local/lib/R/site-library’\n",
            "(as ‘lib’ is unspecified)\n",
            "\n",
            "Loading required package: gsubfn\n",
            "\n",
            "Loading required package: proto\n",
            "\n",
            "Warning message:\n",
            "“no DISPLAY variable so Tk is not available”\n",
            "Loading required package: RSQLite\n",
            "\n",
            "\n",
            "Attaching package: ‘dplyr’\n",
            "\n",
            "\n",
            "The following objects are masked from ‘package:stats’:\n",
            "\n",
            "    filter, lag\n",
            "\n",
            "\n",
            "The following objects are masked from ‘package:base’:\n",
            "\n",
            "    intersect, setdiff, setequal, union\n",
            "\n",
            "\n"
          ]
        },
        {
          "output_type": "display_data",
          "data": {
            "text/html": [
              "<table class=\"dataframe\">\n",
              "<caption>A data.frame: 6 × 11</caption>\n",
              "<thead>\n",
              "\t<tr><th></th><th scope=col>Employee.ID</th><th scope=col>Office.Location</th><th scope=col>Department</th><th scope=col>Idea.Submission.Date</th><th scope=col>Idea.Title</th><th scope=col>Idea.Category</th><th scope=col>Number.of.Votes</th><th scope=col>Collaboration.Status</th><th scope=col>Approval.Status</th><th scope=col>Implementation.Status</th><th scope=col>Security.Concern.Flag</th></tr>\n",
              "\t<tr><th></th><th scope=col>&lt;chr&gt;</th><th scope=col>&lt;chr&gt;</th><th scope=col>&lt;chr&gt;</th><th scope=col>&lt;chr&gt;</th><th scope=col>&lt;chr&gt;</th><th scope=col>&lt;chr&gt;</th><th scope=col>&lt;int&gt;</th><th scope=col>&lt;chr&gt;</th><th scope=col>&lt;chr&gt;</th><th scope=col>&lt;chr&gt;</th><th scope=col>&lt;chr&gt;</th></tr>\n",
              "</thead>\n",
              "<tbody>\n",
              "\t<tr><th scope=row>1</th><td>587b45d8</td><td>Germany  </td><td>Renewable Energy    </td><td>16/04/2024</td><td>Idea 1</td><td>Sustainable Transport</td><td>231</td><td>Single Contributor </td><td>Pending </td><td>Not Started</td><td>No </td></tr>\n",
              "\t<tr><th scope=row>2</th><td>0d3e8b8e</td><td>Canada   </td><td>Renewable Energy    </td><td>14/01/2024</td><td>Idea 2</td><td>Water Management     </td><td>477</td><td>Cross-Regional Team</td><td>Approved</td><td>In Progress</td><td>No </td></tr>\n",
              "\t<tr><th scope=row>3</th><td>fa012fe7</td><td>France   </td><td>Environmental Policy</td><td>10/01/2025</td><td>Idea 3</td><td>Renewable Energy     </td><td> 48</td><td>Cross-Regional Team</td><td>Approved</td><td>Not Started</td><td>Yes</td></tr>\n",
              "\t<tr><th scope=row>4</th><td>cb8ed680</td><td>Japan    </td><td>Technology          </td><td>24/12/2023</td><td>Idea 4</td><td>Circular Economy     </td><td>330</td><td>Cross-Regional Team</td><td>Approved</td><td>Completed  </td><td>No </td></tr>\n",
              "\t<tr><th scope=row>5</th><td>333fff26</td><td>Australia</td><td>Technology          </td><td>13/02/2025</td><td>Idea 5</td><td>Circular Economy     </td><td>428</td><td>Single Contributor </td><td>Approved</td><td>Not Started</td><td>No </td></tr>\n",
              "\t<tr><th scope=row>6</th><td>a34ebb0f</td><td>India    </td><td>Technology          </td><td>08/09/2024</td><td>Idea 6</td><td>Circular Economy     </td><td>431</td><td>Single Contributor </td><td>Rejected</td><td>Not Started</td><td>No </td></tr>\n",
              "</tbody>\n",
              "</table>\n"
            ],
            "text/markdown": "\nA data.frame: 6 × 11\n\n| <!--/--> | Employee.ID &lt;chr&gt; | Office.Location &lt;chr&gt; | Department &lt;chr&gt; | Idea.Submission.Date &lt;chr&gt; | Idea.Title &lt;chr&gt; | Idea.Category &lt;chr&gt; | Number.of.Votes &lt;int&gt; | Collaboration.Status &lt;chr&gt; | Approval.Status &lt;chr&gt; | Implementation.Status &lt;chr&gt; | Security.Concern.Flag &lt;chr&gt; |\n|---|---|---|---|---|---|---|---|---|---|---|---|\n| 1 | 587b45d8 | Germany   | Renewable Energy     | 16/04/2024 | Idea 1 | Sustainable Transport | 231 | Single Contributor  | Pending  | Not Started | No  |\n| 2 | 0d3e8b8e | Canada    | Renewable Energy     | 14/01/2024 | Idea 2 | Water Management      | 477 | Cross-Regional Team | Approved | In Progress | No  |\n| 3 | fa012fe7 | France    | Environmental Policy | 10/01/2025 | Idea 3 | Renewable Energy      |  48 | Cross-Regional Team | Approved | Not Started | Yes |\n| 4 | cb8ed680 | Japan     | Technology           | 24/12/2023 | Idea 4 | Circular Economy      | 330 | Cross-Regional Team | Approved | Completed   | No  |\n| 5 | 333fff26 | Australia | Technology           | 13/02/2025 | Idea 5 | Circular Economy      | 428 | Single Contributor  | Approved | Not Started | No  |\n| 6 | a34ebb0f | India     | Technology           | 08/09/2024 | Idea 6 | Circular Economy      | 431 | Single Contributor  | Rejected | Not Started | No  |\n\n",
            "text/latex": "A data.frame: 6 × 11\n\\begin{tabular}{r|lllllllllll}\n  & Employee.ID & Office.Location & Department & Idea.Submission.Date & Idea.Title & Idea.Category & Number.of.Votes & Collaboration.Status & Approval.Status & Implementation.Status & Security.Concern.Flag\\\\\n  & <chr> & <chr> & <chr> & <chr> & <chr> & <chr> & <int> & <chr> & <chr> & <chr> & <chr>\\\\\n\\hline\n\t1 & 587b45d8 & Germany   & Renewable Energy     & 16/04/2024 & Idea 1 & Sustainable Transport & 231 & Single Contributor  & Pending  & Not Started & No \\\\\n\t2 & 0d3e8b8e & Canada    & Renewable Energy     & 14/01/2024 & Idea 2 & Water Management      & 477 & Cross-Regional Team & Approved & In Progress & No \\\\\n\t3 & fa012fe7 & France    & Environmental Policy & 10/01/2025 & Idea 3 & Renewable Energy      &  48 & Cross-Regional Team & Approved & Not Started & Yes\\\\\n\t4 & cb8ed680 & Japan     & Technology           & 24/12/2023 & Idea 4 & Circular Economy      & 330 & Cross-Regional Team & Approved & Completed   & No \\\\\n\t5 & 333fff26 & Australia & Technology           & 13/02/2025 & Idea 5 & Circular Economy      & 428 & Single Contributor  & Approved & Not Started & No \\\\\n\t6 & a34ebb0f & India     & Technology           & 08/09/2024 & Idea 6 & Circular Economy      & 431 & Single Contributor  & Rejected & Not Started & No \\\\\n\\end{tabular}\n",
            "text/plain": [
              "  Employee.ID Office.Location Department           Idea.Submission.Date\n",
              "1 587b45d8    Germany         Renewable Energy     16/04/2024          \n",
              "2 0d3e8b8e    Canada          Renewable Energy     14/01/2024          \n",
              "3 fa012fe7    France          Environmental Policy 10/01/2025          \n",
              "4 cb8ed680    Japan           Technology           24/12/2023          \n",
              "5 333fff26    Australia       Technology           13/02/2025          \n",
              "6 a34ebb0f    India           Technology           08/09/2024          \n",
              "  Idea.Title Idea.Category         Number.of.Votes Collaboration.Status\n",
              "1 Idea 1     Sustainable Transport 231             Single Contributor  \n",
              "2 Idea 2     Water Management      477             Cross-Regional Team \n",
              "3 Idea 3     Renewable Energy       48             Cross-Regional Team \n",
              "4 Idea 4     Circular Economy      330             Cross-Regional Team \n",
              "5 Idea 5     Circular Economy      428             Single Contributor  \n",
              "6 Idea 6     Circular Economy      431             Single Contributor  \n",
              "  Approval.Status Implementation.Status Security.Concern.Flag\n",
              "1 Pending         Not Started           No                   \n",
              "2 Approved        In Progress           No                   \n",
              "3 Approved        Not Started           Yes                  \n",
              "4 Approved        Completed             No                   \n",
              "5 Approved        Not Started           No                   \n",
              "6 Rejected        Not Started           No                   "
            ]
          },
          "metadata": {}
        }
      ],
      "source": [
        "# Load required libraries\n",
        "install.packages(\"sqldf\")\n",
        "install.packages(\"dplyr\")\n",
        "install.packages(\"ggplot2\")\n",
        "\n",
        "library(sqldf)\n",
        "library(dplyr)\n",
        "library(ggplot2)\n",
        "\n",
        "# Read the dataset (update this if hosting on GitHub)\n",
        "data <- read.csv(\"https://raw.githubusercontent.com/YashJ1825/Database-and-analitics/refs/heads/main/greenfuture_ideas_dataset.csv\")\n",
        "\n",
        "# View first few rows\n",
        "head(data)\n"
      ]
    },
    {
      "cell_type": "markdown",
      "source": [
        "Demonstrate how to select, insert, update, and delete recordsfrom tables using SQL\n",
        "statements."
      ],
      "metadata": {
        "id": "7zDbtK1Z_NC8"
      }
    },
    {
      "cell_type": "code",
      "source": [
        "# SELECT – view top 5\n",
        "sqldf(\"SELECT * FROM data LIMIT 5\")\n",
        "\n",
        "# INSERT – duplicate first row as new entry\n",
        "data <- rbind(data, data[1, ])\n",
        "\n",
        "# UPDATE – change \"Pending\" to \"Under Review\"\n",
        "data$Approval.Status[data$Approval.Status == \"Pending\"] <- \"Under Review\"\n",
        "\n",
        "# DELETE – remove last inserted duplicate\n",
        "data <- data[-nrow(data), ]\n"
      ],
      "metadata": {
        "colab": {
          "base_uri": "https://localhost:8080/",
          "height": 254
        },
        "id": "ea3ZqXrt7roQ",
        "outputId": "32baf995-afb5-4971-ee7e-62ad57c959de"
      },
      "execution_count": null,
      "outputs": [
        {
          "output_type": "display_data",
          "data": {
            "text/html": [
              "<table class=\"dataframe\">\n",
              "<caption>A data.frame: 5 × 12</caption>\n",
              "<thead>\n",
              "\t<tr><th scope=col>Employee.ID</th><th scope=col>Office.Location</th><th scope=col>Department</th><th scope=col>Idea.Submission.Date</th><th scope=col>Idea.Title</th><th scope=col>Idea.Category</th><th scope=col>Number.of.Votes</th><th scope=col>Collaboration.Status</th><th scope=col>Approval.Status</th><th scope=col>Implementation.Status</th><th scope=col>Security.Concern.Flag</th><th scope=col>Vote.Level</th></tr>\n",
              "\t<tr><th scope=col>&lt;chr&gt;</th><th scope=col>&lt;chr&gt;</th><th scope=col>&lt;chr&gt;</th><th scope=col>&lt;chr&gt;</th><th scope=col>&lt;chr&gt;</th><th scope=col>&lt;chr&gt;</th><th scope=col>&lt;int&gt;</th><th scope=col>&lt;chr&gt;</th><th scope=col>&lt;chr&gt;</th><th scope=col>&lt;chr&gt;</th><th scope=col>&lt;chr&gt;</th><th scope=col>&lt;chr&gt;</th></tr>\n",
              "</thead>\n",
              "<tbody>\n",
              "\t<tr><td>587b45d8</td><td>Germany  </td><td>Renewable Energy    </td><td>16/04/2024</td><td>Idea 1</td><td>Sustainable Transport</td><td>231</td><td>Single Contributor </td><td>Under Review</td><td>Not Started</td><td>No </td><td>Low </td></tr>\n",
              "\t<tr><td>0d3e8b8e</td><td>Canada   </td><td>Renewable Energy    </td><td>14/01/2024</td><td>Idea 2</td><td>Water Management     </td><td>477</td><td>Cross-Regional Team</td><td>Approved    </td><td>In Progress</td><td>No </td><td>High</td></tr>\n",
              "\t<tr><td>fa012fe7</td><td>France   </td><td>Environmental Policy</td><td>10/01/2025</td><td>Idea 3</td><td>Renewable Energy     </td><td> 48</td><td>Cross-Regional Team</td><td>Approved    </td><td>Not Started</td><td>Yes</td><td>Low </td></tr>\n",
              "\t<tr><td>cb8ed680</td><td>Japan    </td><td>Technology          </td><td>24/12/2023</td><td>Idea 4</td><td>Circular Economy     </td><td>330</td><td>Cross-Regional Team</td><td>Approved    </td><td>Completed  </td><td>No </td><td>High</td></tr>\n",
              "\t<tr><td>333fff26</td><td>Australia</td><td>Technology          </td><td>13/02/2025</td><td>Idea 5</td><td>Circular Economy     </td><td>428</td><td>Single Contributor </td><td>Approved    </td><td>Not Started</td><td>No </td><td>High</td></tr>\n",
              "</tbody>\n",
              "</table>\n"
            ],
            "text/markdown": "\nA data.frame: 5 × 12\n\n| Employee.ID &lt;chr&gt; | Office.Location &lt;chr&gt; | Department &lt;chr&gt; | Idea.Submission.Date &lt;chr&gt; | Idea.Title &lt;chr&gt; | Idea.Category &lt;chr&gt; | Number.of.Votes &lt;int&gt; | Collaboration.Status &lt;chr&gt; | Approval.Status &lt;chr&gt; | Implementation.Status &lt;chr&gt; | Security.Concern.Flag &lt;chr&gt; | Vote.Level &lt;chr&gt; |\n|---|---|---|---|---|---|---|---|---|---|---|---|\n| 587b45d8 | Germany   | Renewable Energy     | 16/04/2024 | Idea 1 | Sustainable Transport | 231 | Single Contributor  | Under Review | Not Started | No  | Low  |\n| 0d3e8b8e | Canada    | Renewable Energy     | 14/01/2024 | Idea 2 | Water Management      | 477 | Cross-Regional Team | Approved     | In Progress | No  | High |\n| fa012fe7 | France    | Environmental Policy | 10/01/2025 | Idea 3 | Renewable Energy      |  48 | Cross-Regional Team | Approved     | Not Started | Yes | Low  |\n| cb8ed680 | Japan     | Technology           | 24/12/2023 | Idea 4 | Circular Economy      | 330 | Cross-Regional Team | Approved     | Completed   | No  | High |\n| 333fff26 | Australia | Technology           | 13/02/2025 | Idea 5 | Circular Economy      | 428 | Single Contributor  | Approved     | Not Started | No  | High |\n\n",
            "text/latex": "A data.frame: 5 × 12\n\\begin{tabular}{llllllllllll}\n Employee.ID & Office.Location & Department & Idea.Submission.Date & Idea.Title & Idea.Category & Number.of.Votes & Collaboration.Status & Approval.Status & Implementation.Status & Security.Concern.Flag & Vote.Level\\\\\n <chr> & <chr> & <chr> & <chr> & <chr> & <chr> & <int> & <chr> & <chr> & <chr> & <chr> & <chr>\\\\\n\\hline\n\t 587b45d8 & Germany   & Renewable Energy     & 16/04/2024 & Idea 1 & Sustainable Transport & 231 & Single Contributor  & Under Review & Not Started & No  & Low \\\\\n\t 0d3e8b8e & Canada    & Renewable Energy     & 14/01/2024 & Idea 2 & Water Management      & 477 & Cross-Regional Team & Approved     & In Progress & No  & High\\\\\n\t fa012fe7 & France    & Environmental Policy & 10/01/2025 & Idea 3 & Renewable Energy      &  48 & Cross-Regional Team & Approved     & Not Started & Yes & Low \\\\\n\t cb8ed680 & Japan     & Technology           & 24/12/2023 & Idea 4 & Circular Economy      & 330 & Cross-Regional Team & Approved     & Completed   & No  & High\\\\\n\t 333fff26 & Australia & Technology           & 13/02/2025 & Idea 5 & Circular Economy      & 428 & Single Contributor  & Approved     & Not Started & No  & High\\\\\n\\end{tabular}\n",
            "text/plain": [
              "  Employee.ID Office.Location Department           Idea.Submission.Date\n",
              "1 587b45d8    Germany         Renewable Energy     16/04/2024          \n",
              "2 0d3e8b8e    Canada          Renewable Energy     14/01/2024          \n",
              "3 fa012fe7    France          Environmental Policy 10/01/2025          \n",
              "4 cb8ed680    Japan           Technology           24/12/2023          \n",
              "5 333fff26    Australia       Technology           13/02/2025          \n",
              "  Idea.Title Idea.Category         Number.of.Votes Collaboration.Status\n",
              "1 Idea 1     Sustainable Transport 231             Single Contributor  \n",
              "2 Idea 2     Water Management      477             Cross-Regional Team \n",
              "3 Idea 3     Renewable Energy       48             Cross-Regional Team \n",
              "4 Idea 4     Circular Economy      330             Cross-Regional Team \n",
              "5 Idea 5     Circular Economy      428             Single Contributor  \n",
              "  Approval.Status Implementation.Status Security.Concern.Flag Vote.Level\n",
              "1 Under Review    Not Started           No                    Low       \n",
              "2 Approved        In Progress           No                    High      \n",
              "3 Approved        Not Started           Yes                   Low       \n",
              "4 Approved        Completed             No                    High      \n",
              "5 Approved        Not Started           No                    High      "
            ]
          },
          "metadata": {}
        }
      ]
    },
    {
      "cell_type": "markdown",
      "source": [
        "Apply mathematical expressions/ aggregate functions/ arithmetic functionsto query and manipulate\n",
        "data.\n"
      ],
      "metadata": {
        "id": "tzpoSFlN_Hhw"
      }
    },
    {
      "cell_type": "code",
      "source": [
        "# Total votes by department\n",
        "sqldf(\"SELECT Department, SUM(`Number.of.Votes`) AS TotalVotes FROM data GROUP BY Department\")\n",
        "\n",
        "# Average votes per idea category\n",
        "sqldf(\"SELECT `Idea.Category`, AVG(`Number.of.Votes`) AS AvgVotes FROM data GROUP BY `Idea.Category`\")\n",
        "\n",
        "# Count of approved ideas\n",
        "sqldf(\"SELECT `Approval.Status`, COUNT(*) AS Count FROM data GROUP BY `Approval.Status`\")\n",
        "\n"
      ],
      "metadata": {
        "colab": {
          "base_uri": "https://localhost:8080/",
          "height": 192
        },
        "id": "IrHP6sD68CFN",
        "outputId": "41be2556-9750-4f89-9474-9ca6574aa667"
      },
      "execution_count": null,
      "outputs": [
        {
          "output_type": "display_data",
          "data": {
            "text/html": [
              "<table class=\"dataframe\">\n",
              "<caption>A data.frame: 3 × 2</caption>\n",
              "<thead>\n",
              "\t<tr><th scope=col>Approval.Status</th><th scope=col>Count</th></tr>\n",
              "\t<tr><th scope=col>&lt;chr&gt;</th><th scope=col>&lt;int&gt;</th></tr>\n",
              "</thead>\n",
              "<tbody>\n",
              "\t<tr><td>Approved    </td><td>1037</td></tr>\n",
              "\t<tr><td>Rejected    </td><td> 993</td></tr>\n",
              "\t<tr><td>Under Review</td><td> 971</td></tr>\n",
              "</tbody>\n",
              "</table>\n"
            ],
            "text/markdown": "\nA data.frame: 3 × 2\n\n| Approval.Status &lt;chr&gt; | Count &lt;int&gt; |\n|---|---|\n| Approved     | 1037 |\n| Rejected     |  993 |\n| Under Review |  971 |\n\n",
            "text/latex": "A data.frame: 3 × 2\n\\begin{tabular}{ll}\n Approval.Status & Count\\\\\n <chr> & <int>\\\\\n\\hline\n\t Approved     & 1037\\\\\n\t Rejected     &  993\\\\\n\t Under Review &  971\\\\\n\\end{tabular}\n",
            "text/plain": [
              "  Approval.Status Count\n",
              "1 Approved        1037 \n",
              "2 Rejected         993 \n",
              "3 Under Review     971 "
            ]
          },
          "metadata": {}
        }
      ]
    },
    {
      "cell_type": "code",
      "source": [
        "colnames(data)\n"
      ],
      "metadata": {
        "colab": {
          "base_uri": "https://localhost:8080/",
          "height": 34
        },
        "id": "VImQ76ZoEHHD",
        "outputId": "b544eeb2-04f6-43ea-b067-1898170980f6"
      },
      "execution_count": null,
      "outputs": [
        {
          "output_type": "display_data",
          "data": {
            "text/html": [
              "<style>\n",
              ".list-inline {list-style: none; margin:0; padding: 0}\n",
              ".list-inline>li {display: inline-block}\n",
              ".list-inline>li:not(:last-child)::after {content: \"\\00b7\"; padding: 0 .5ex}\n",
              "</style>\n",
              "<ol class=list-inline><li>'Employee.ID'</li><li>'Office.Location'</li><li>'Department'</li><li>'Idea.Submission.Date'</li><li>'Idea.Title'</li><li>'Idea.Category'</li><li>'Number.of.Votes'</li><li>'Collaboration.Status'</li><li>'Approval.Status'</li><li>'Implementation.Status'</li><li>'Security.Concern.Flag'</li><li>'Vote.Level'</li></ol>\n"
            ],
            "text/markdown": "1. 'Employee.ID'\n2. 'Office.Location'\n3. 'Department'\n4. 'Idea.Submission.Date'\n5. 'Idea.Title'\n6. 'Idea.Category'\n7. 'Number.of.Votes'\n8. 'Collaboration.Status'\n9. 'Approval.Status'\n10. 'Implementation.Status'\n11. 'Security.Concern.Flag'\n12. 'Vote.Level'\n\n\n",
            "text/latex": "\\begin{enumerate*}\n\\item 'Employee.ID'\n\\item 'Office.Location'\n\\item 'Department'\n\\item 'Idea.Submission.Date'\n\\item 'Idea.Title'\n\\item 'Idea.Category'\n\\item 'Number.of.Votes'\n\\item 'Collaboration.Status'\n\\item 'Approval.Status'\n\\item 'Implementation.Status'\n\\item 'Security.Concern.Flag'\n\\item 'Vote.Level'\n\\end{enumerate*}\n",
            "text/plain": [
              " [1] \"Employee.ID\"           \"Office.Location\"       \"Department\"           \n",
              " [4] \"Idea.Submission.Date\"  \"Idea.Title\"            \"Idea.Category\"        \n",
              " [7] \"Number.of.Votes\"       \"Collaboration.Status\"  \"Approval.Status\"      \n",
              "[10] \"Implementation.Status\" \"Security.Concern.Flag\" \"Vote.Level\"           "
            ]
          },
          "metadata": {}
        }
      ]
    },
    {
      "cell_type": "code",
      "source": [
        "#Shows which departments are most engaged in submitting ideas.\n",
        "sqldf(\"SELECT `Department`, COUNT(*) AS Total_Ideas FROM data GROUP BY `Department`\")\n",
        "\n"
      ],
      "metadata": {
        "colab": {
          "base_uri": "https://localhost:8080/",
          "height": 286
        },
        "id": "wsTj9PBVEql1",
        "outputId": "26a183e1-1d3d-4ece-b657-5861712d9fe4"
      },
      "execution_count": null,
      "outputs": [
        {
          "output_type": "display_data",
          "data": {
            "text/html": [
              "<table class=\"dataframe\">\n",
              "<caption>A data.frame: 6 × 2</caption>\n",
              "<thead>\n",
              "\t<tr><th scope=col>Department</th><th scope=col>Total_Ideas</th></tr>\n",
              "\t<tr><th scope=col>&lt;chr&gt;</th><th scope=col>&lt;int&gt;</th></tr>\n",
              "</thead>\n",
              "<tbody>\n",
              "\t<tr><td>Environmental Policy</td><td>499</td></tr>\n",
              "\t<tr><td>Infrastructure      </td><td>547</td></tr>\n",
              "\t<tr><td>Renewable Energy    </td><td>514</td></tr>\n",
              "\t<tr><td>Research            </td><td>498</td></tr>\n",
              "\t<tr><td>Technology          </td><td>457</td></tr>\n",
              "\t<tr><td>Urban Development   </td><td>486</td></tr>\n",
              "</tbody>\n",
              "</table>\n"
            ],
            "text/markdown": "\nA data.frame: 6 × 2\n\n| Department &lt;chr&gt; | Total_Ideas &lt;int&gt; |\n|---|---|\n| Environmental Policy | 499 |\n| Infrastructure       | 547 |\n| Renewable Energy     | 514 |\n| Research             | 498 |\n| Technology           | 457 |\n| Urban Development    | 486 |\n\n",
            "text/latex": "A data.frame: 6 × 2\n\\begin{tabular}{ll}\n Department & Total\\_Ideas\\\\\n <chr> & <int>\\\\\n\\hline\n\t Environmental Policy & 499\\\\\n\t Infrastructure       & 547\\\\\n\t Renewable Energy     & 514\\\\\n\t Research             & 498\\\\\n\t Technology           & 457\\\\\n\t Urban Development    & 486\\\\\n\\end{tabular}\n",
            "text/plain": [
              "  Department           Total_Ideas\n",
              "1 Environmental Policy 499        \n",
              "2 Infrastructure       547        \n",
              "3 Renewable Energy     514        \n",
              "4 Research             498        \n",
              "5 Technology           457        \n",
              "6 Urban Development    486        "
            ]
          },
          "metadata": {}
        }
      ]
    },
    {
      "cell_type": "code",
      "source": [
        "#Identifies the types of ideas that attract the most peer support.\n",
        "sqldf(\"SELECT `Idea.Category`, AVG(`Number.of.Votes`) AS Avg_Votes FROM data GROUP BY `Idea.Category`\")"
      ],
      "metadata": {
        "colab": {
          "base_uri": "https://localhost:8080/",
          "height": 286
        },
        "id": "-E0F4DmiGUUl",
        "outputId": "d375d29a-1c60-4833-cf9e-cea6a947f9ee"
      },
      "execution_count": null,
      "outputs": [
        {
          "output_type": "display_data",
          "data": {
            "text/html": [
              "<table class=\"dataframe\">\n",
              "<caption>A data.frame: 6 × 2</caption>\n",
              "<thead>\n",
              "\t<tr><th scope=col>Idea.Category</th><th scope=col>Avg_Votes</th></tr>\n",
              "\t<tr><th scope=col>&lt;chr&gt;</th><th scope=col>&lt;dbl&gt;</th></tr>\n",
              "</thead>\n",
              "<tbody>\n",
              "\t<tr><td>Carbon Capture       </td><td>249.1674</td></tr>\n",
              "\t<tr><td>Circular Economy     </td><td>245.7742</td></tr>\n",
              "\t<tr><td>Renewable Energy     </td><td>247.8480</td></tr>\n",
              "\t<tr><td>Smart Cities         </td><td>244.7526</td></tr>\n",
              "\t<tr><td>Sustainable Transport</td><td>247.0000</td></tr>\n",
              "\t<tr><td>Water Management     </td><td>255.6382</td></tr>\n",
              "</tbody>\n",
              "</table>\n"
            ],
            "text/markdown": "\nA data.frame: 6 × 2\n\n| Idea.Category &lt;chr&gt; | Avg_Votes &lt;dbl&gt; |\n|---|---|\n| Carbon Capture        | 249.1674 |\n| Circular Economy      | 245.7742 |\n| Renewable Energy      | 247.8480 |\n| Smart Cities          | 244.7526 |\n| Sustainable Transport | 247.0000 |\n| Water Management      | 255.6382 |\n\n",
            "text/latex": "A data.frame: 6 × 2\n\\begin{tabular}{ll}\n Idea.Category & Avg\\_Votes\\\\\n <chr> & <dbl>\\\\\n\\hline\n\t Carbon Capture        & 249.1674\\\\\n\t Circular Economy      & 245.7742\\\\\n\t Renewable Energy      & 247.8480\\\\\n\t Smart Cities          & 244.7526\\\\\n\t Sustainable Transport & 247.0000\\\\\n\t Water Management      & 255.6382\\\\\n\\end{tabular}\n",
            "text/plain": [
              "  Idea.Category         Avg_Votes\n",
              "1 Carbon Capture        249.1674 \n",
              "2 Circular Economy      245.7742 \n",
              "3 Renewable Energy      247.8480 \n",
              "4 Smart Cities          244.7526 \n",
              "5 Sustainable Transport 247.0000 \n",
              "6 Water Management      255.6382 "
            ]
          },
          "metadata": {}
        }
      ]
    },
    {
      "cell_type": "code",
      "source": [
        "#Highlights offices where team collaboration is strongest.\n",
        "sqldf(\"SELECT `Office.Location`, COUNT(*) AS Collaborated_Ideas\n",
        "       FROM data\n",
        "       WHERE `Collaboration.Status` = 'Yes'\n",
        "       GROUP BY `Office.Location`\")"
      ],
      "metadata": {
        "colab": {
          "base_uri": "https://localhost:8080/",
          "height": 98
        },
        "id": "dzM9eeXWGHmu",
        "outputId": "9b072af1-3550-4e76-9e3b-868a52ee6eb7"
      },
      "execution_count": null,
      "outputs": [
        {
          "output_type": "display_data",
          "data": {
            "text/html": [
              "<table class=\"dataframe\">\n",
              "<caption>A data.frame: 0 × 2</caption>\n",
              "<thead>\n",
              "\t<tr><th scope=col>Office.Location</th><th scope=col>Collaborated_Ideas</th></tr>\n",
              "\t<tr><th scope=col>&lt;chr&gt;</th><th scope=col>&lt;lgl&gt;</th></tr>\n",
              "</thead>\n",
              "<tbody>\n",
              "</tbody>\n",
              "</table>\n"
            ],
            "text/markdown": "\nA data.frame: 0 × 2\n\n| Office.Location &lt;chr&gt; | Collaborated_Ideas &lt;lgl&gt; |\n|---|---|\n\n",
            "text/latex": "A data.frame: 0 × 2\n\\begin{tabular}{ll}\n Office.Location & Collaborated\\_Ideas\\\\\n <chr> & <lgl>\\\\\n\\hline\n\\end{tabular}\n",
            "text/plain": [
              "     Office.Location Collaborated_Ideas"
            ]
          },
          "metadata": {}
        }
      ]
    },
    {
      "cell_type": "code",
      "source": [
        "# Measures success rate of submitted ideas per department.\n",
        "sqldf(\"\n",
        "  SELECT `Department`,\n",
        "         COUNT(*) AS Total_Ideas,\n",
        "         SUM(CASE WHEN `Approval.Status` = 'Approved' THEN 1 ELSE 0 END) AS Approved_Ideas,\n",
        "         ROUND(SUM(CASE WHEN `Approval.Status` = 'Approved' THEN 1 ELSE 0 END)*100.0 / COUNT(*), 2) AS Approval_Rate\n",
        "  FROM data\n",
        "  GROUP BY `Department`\n",
        "\")"
      ],
      "metadata": {
        "colab": {
          "base_uri": "https://localhost:8080/",
          "height": 286
        },
        "id": "Ds0TiOW6GIYS",
        "outputId": "a69d0653-1b94-4f30-fa58-68ac5d4c9827"
      },
      "execution_count": null,
      "outputs": [
        {
          "output_type": "display_data",
          "data": {
            "text/html": [
              "<table class=\"dataframe\">\n",
              "<caption>A data.frame: 6 × 4</caption>\n",
              "<thead>\n",
              "\t<tr><th scope=col>Department</th><th scope=col>Total_Ideas</th><th scope=col>Approved_Ideas</th><th scope=col>Approval_Rate</th></tr>\n",
              "\t<tr><th scope=col>&lt;chr&gt;</th><th scope=col>&lt;int&gt;</th><th scope=col>&lt;int&gt;</th><th scope=col>&lt;dbl&gt;</th></tr>\n",
              "</thead>\n",
              "<tbody>\n",
              "\t<tr><td>Environmental Policy</td><td>499</td><td>169</td><td>33.87</td></tr>\n",
              "\t<tr><td>Infrastructure      </td><td>547</td><td>183</td><td>33.46</td></tr>\n",
              "\t<tr><td>Renewable Energy    </td><td>514</td><td>182</td><td>35.41</td></tr>\n",
              "\t<tr><td>Research            </td><td>498</td><td>169</td><td>33.94</td></tr>\n",
              "\t<tr><td>Technology          </td><td>457</td><td>172</td><td>37.64</td></tr>\n",
              "\t<tr><td>Urban Development   </td><td>486</td><td>162</td><td>33.33</td></tr>\n",
              "</tbody>\n",
              "</table>\n"
            ],
            "text/markdown": "\nA data.frame: 6 × 4\n\n| Department &lt;chr&gt; | Total_Ideas &lt;int&gt; | Approved_Ideas &lt;int&gt; | Approval_Rate &lt;dbl&gt; |\n|---|---|---|---|\n| Environmental Policy | 499 | 169 | 33.87 |\n| Infrastructure       | 547 | 183 | 33.46 |\n| Renewable Energy     | 514 | 182 | 35.41 |\n| Research             | 498 | 169 | 33.94 |\n| Technology           | 457 | 172 | 37.64 |\n| Urban Development    | 486 | 162 | 33.33 |\n\n",
            "text/latex": "A data.frame: 6 × 4\n\\begin{tabular}{llll}\n Department & Total\\_Ideas & Approved\\_Ideas & Approval\\_Rate\\\\\n <chr> & <int> & <int> & <dbl>\\\\\n\\hline\n\t Environmental Policy & 499 & 169 & 33.87\\\\\n\t Infrastructure       & 547 & 183 & 33.46\\\\\n\t Renewable Energy     & 514 & 182 & 35.41\\\\\n\t Research             & 498 & 169 & 33.94\\\\\n\t Technology           & 457 & 172 & 37.64\\\\\n\t Urban Development    & 486 & 162 & 33.33\\\\\n\\end{tabular}\n",
            "text/plain": [
              "  Department           Total_Ideas Approved_Ideas Approval_Rate\n",
              "1 Environmental Policy 499         169            33.87        \n",
              "2 Infrastructure       547         183            33.46        \n",
              "3 Renewable Energy     514         182            35.41        \n",
              "4 Research             498         169            33.94        \n",
              "5 Technology           457         172            37.64        \n",
              "6 Urban Development    486         162            33.33        "
            ]
          },
          "metadata": {}
        }
      ]
    },
    {
      "cell_type": "code",
      "source": [
        "\n",
        "#Pinpoints locations with low engagement to focus support.\n",
        "\n",
        "sqldf(\"SELECT `Office.Location`, COUNT(*) AS Idea_Count\n",
        "       FROM data\n",
        "       GROUP BY `Office.Location`\n",
        "       ORDER BY Idea_Count ASC\n",
        "       LIMIT 5\")"
      ],
      "metadata": {
        "colab": {
          "base_uri": "https://localhost:8080/",
          "height": 254
        },
        "id": "AUxUIriuGLrV",
        "outputId": "d3b6d06c-a08b-4f17-8750-77535cd592d1"
      },
      "execution_count": null,
      "outputs": [
        {
          "output_type": "display_data",
          "data": {
            "text/html": [
              "<table class=\"dataframe\">\n",
              "<caption>A data.frame: 5 × 2</caption>\n",
              "<thead>\n",
              "\t<tr><th scope=col>Office.Location</th><th scope=col>Idea_Count</th></tr>\n",
              "\t<tr><th scope=col>&lt;chr&gt;</th><th scope=col>&lt;int&gt;</th></tr>\n",
              "</thead>\n",
              "<tbody>\n",
              "\t<tr><td>India    </td><td>222</td></tr>\n",
              "\t<tr><td>Brazil   </td><td>227</td></tr>\n",
              "\t<tr><td>Mexico   </td><td>240</td></tr>\n",
              "\t<tr><td>USA      </td><td>241</td></tr>\n",
              "\t<tr><td>Australia</td><td>244</td></tr>\n",
              "</tbody>\n",
              "</table>\n"
            ],
            "text/markdown": "\nA data.frame: 5 × 2\n\n| Office.Location &lt;chr&gt; | Idea_Count &lt;int&gt; |\n|---|---|\n| India     | 222 |\n| Brazil    | 227 |\n| Mexico    | 240 |\n| USA       | 241 |\n| Australia | 244 |\n\n",
            "text/latex": "A data.frame: 5 × 2\n\\begin{tabular}{ll}\n Office.Location & Idea\\_Count\\\\\n <chr> & <int>\\\\\n\\hline\n\t India     & 222\\\\\n\t Brazil    & 227\\\\\n\t Mexico    & 240\\\\\n\t USA       & 241\\\\\n\t Australia & 244\\\\\n\\end{tabular}\n",
            "text/plain": [
              "  Office.Location Idea_Count\n",
              "1 India           222       \n",
              "2 Brazil          227       \n",
              "3 Mexico          240       \n",
              "4 USA             241       \n",
              "5 Australia       244       "
            ]
          },
          "metadata": {}
        }
      ]
    },
    {
      "cell_type": "code",
      "source": [
        "#Example 1: Filter Approved Ideas Only\n",
        "approved_ideas <- filter(data, Approval.Status == \"Approved\")\n",
        "head(approved_ideas)\n",
        "\n",
        "#Explanation: This keeps only the ideas that were approved, useful for further impact analysis.\n"
      ],
      "metadata": {
        "colab": {
          "base_uri": "https://localhost:8080/",
          "height": 286
        },
        "id": "0lYLOyjAHV1a",
        "outputId": "6d591e88-ae5d-4ac0-a69d-7d35862bbaea"
      },
      "execution_count": null,
      "outputs": [
        {
          "output_type": "display_data",
          "data": {
            "text/html": [
              "<table class=\"dataframe\">\n",
              "<caption>A data.frame: 6 × 13</caption>\n",
              "<thead>\n",
              "\t<tr><th></th><th scope=col>Employee.ID</th><th scope=col>Office.Location</th><th scope=col>Department</th><th scope=col>Idea.Submission.Date</th><th scope=col>Idea.Title</th><th scope=col>Idea.Category</th><th scope=col>Number.of.Votes</th><th scope=col>Collaboration.Status</th><th scope=col>Approval.Status</th><th scope=col>Implementation.Status</th><th scope=col>Security.Concern.Flag</th><th scope=col>Vote.Level</th><th scope=col>Vote.Category</th></tr>\n",
              "\t<tr><th></th><th scope=col>&lt;chr&gt;</th><th scope=col>&lt;chr&gt;</th><th scope=col>&lt;chr&gt;</th><th scope=col>&lt;chr&gt;</th><th scope=col>&lt;chr&gt;</th><th scope=col>&lt;chr&gt;</th><th scope=col>&lt;int&gt;</th><th scope=col>&lt;chr&gt;</th><th scope=col>&lt;chr&gt;</th><th scope=col>&lt;chr&gt;</th><th scope=col>&lt;chr&gt;</th><th scope=col>&lt;chr&gt;</th><th scope=col>&lt;chr&gt;</th></tr>\n",
              "</thead>\n",
              "<tbody>\n",
              "\t<tr><th scope=row>1</th><td>0d3e8b8e</td><td>Canada   </td><td>Renewable Energy    </td><td>14/01/2024</td><td>Idea 2 </td><td>Water Management     </td><td>477</td><td>Cross-Regional Team</td><td>Approved</td><td>In Progress</td><td>No </td><td>High</td><td>High</td></tr>\n",
              "\t<tr><th scope=row>2</th><td>fa012fe7</td><td>France   </td><td>Environmental Policy</td><td>10/01/2025</td><td>Idea 3 </td><td>Renewable Energy     </td><td> 48</td><td>Cross-Regional Team</td><td>Approved</td><td>Not Started</td><td>Yes</td><td>Low </td><td>Low </td></tr>\n",
              "\t<tr><th scope=row>3</th><td>cb8ed680</td><td>Japan    </td><td>Technology          </td><td>24/12/2023</td><td>Idea 4 </td><td>Circular Economy     </td><td>330</td><td>Cross-Regional Team</td><td>Approved</td><td>Completed  </td><td>No </td><td>High</td><td>High</td></tr>\n",
              "\t<tr><th scope=row>4</th><td>333fff26</td><td>Australia</td><td>Technology          </td><td>13/02/2025</td><td>Idea 5 </td><td>Circular Economy     </td><td>428</td><td>Single Contributor </td><td>Approved</td><td>Not Started</td><td>No </td><td>High</td><td>High</td></tr>\n",
              "\t<tr><th scope=row>5</th><td>27febb2d</td><td>Brazil   </td><td>Technology          </td><td>17/05/2024</td><td>Idea 15</td><td>Sustainable Transport</td><td>425</td><td>Single Contributor </td><td>Approved</td><td>In Progress</td><td>No </td><td>High</td><td>High</td></tr>\n",
              "\t<tr><th scope=row>6</th><td>018d372d</td><td>Germany  </td><td>Technology          </td><td>16/08/2024</td><td>Idea 17</td><td>Water Management     </td><td>  2</td><td>Cross-Regional Team</td><td>Approved</td><td>Completed  </td><td>No </td><td>Low </td><td>Low </td></tr>\n",
              "</tbody>\n",
              "</table>\n"
            ],
            "text/markdown": "\nA data.frame: 6 × 13\n\n| <!--/--> | Employee.ID &lt;chr&gt; | Office.Location &lt;chr&gt; | Department &lt;chr&gt; | Idea.Submission.Date &lt;chr&gt; | Idea.Title &lt;chr&gt; | Idea.Category &lt;chr&gt; | Number.of.Votes &lt;int&gt; | Collaboration.Status &lt;chr&gt; | Approval.Status &lt;chr&gt; | Implementation.Status &lt;chr&gt; | Security.Concern.Flag &lt;chr&gt; | Vote.Level &lt;chr&gt; | Vote.Category &lt;chr&gt; |\n|---|---|---|---|---|---|---|---|---|---|---|---|---|---|\n| 1 | 0d3e8b8e | Canada    | Renewable Energy     | 14/01/2024 | Idea 2  | Water Management      | 477 | Cross-Regional Team | Approved | In Progress | No  | High | High |\n| 2 | fa012fe7 | France    | Environmental Policy | 10/01/2025 | Idea 3  | Renewable Energy      |  48 | Cross-Regional Team | Approved | Not Started | Yes | Low  | Low  |\n| 3 | cb8ed680 | Japan     | Technology           | 24/12/2023 | Idea 4  | Circular Economy      | 330 | Cross-Regional Team | Approved | Completed   | No  | High | High |\n| 4 | 333fff26 | Australia | Technology           | 13/02/2025 | Idea 5  | Circular Economy      | 428 | Single Contributor  | Approved | Not Started | No  | High | High |\n| 5 | 27febb2d | Brazil    | Technology           | 17/05/2024 | Idea 15 | Sustainable Transport | 425 | Single Contributor  | Approved | In Progress | No  | High | High |\n| 6 | 018d372d | Germany   | Technology           | 16/08/2024 | Idea 17 | Water Management      |   2 | Cross-Regional Team | Approved | Completed   | No  | Low  | Low  |\n\n",
            "text/latex": "A data.frame: 6 × 13\n\\begin{tabular}{r|lllllllllllll}\n  & Employee.ID & Office.Location & Department & Idea.Submission.Date & Idea.Title & Idea.Category & Number.of.Votes & Collaboration.Status & Approval.Status & Implementation.Status & Security.Concern.Flag & Vote.Level & Vote.Category\\\\\n  & <chr> & <chr> & <chr> & <chr> & <chr> & <chr> & <int> & <chr> & <chr> & <chr> & <chr> & <chr> & <chr>\\\\\n\\hline\n\t1 & 0d3e8b8e & Canada    & Renewable Energy     & 14/01/2024 & Idea 2  & Water Management      & 477 & Cross-Regional Team & Approved & In Progress & No  & High & High\\\\\n\t2 & fa012fe7 & France    & Environmental Policy & 10/01/2025 & Idea 3  & Renewable Energy      &  48 & Cross-Regional Team & Approved & Not Started & Yes & Low  & Low \\\\\n\t3 & cb8ed680 & Japan     & Technology           & 24/12/2023 & Idea 4  & Circular Economy      & 330 & Cross-Regional Team & Approved & Completed   & No  & High & High\\\\\n\t4 & 333fff26 & Australia & Technology           & 13/02/2025 & Idea 5  & Circular Economy      & 428 & Single Contributor  & Approved & Not Started & No  & High & High\\\\\n\t5 & 27febb2d & Brazil    & Technology           & 17/05/2024 & Idea 15 & Sustainable Transport & 425 & Single Contributor  & Approved & In Progress & No  & High & High\\\\\n\t6 & 018d372d & Germany   & Technology           & 16/08/2024 & Idea 17 & Water Management      &   2 & Cross-Regional Team & Approved & Completed   & No  & Low  & Low \\\\\n\\end{tabular}\n",
            "text/plain": [
              "  Employee.ID Office.Location Department           Idea.Submission.Date\n",
              "1 0d3e8b8e    Canada          Renewable Energy     14/01/2024          \n",
              "2 fa012fe7    France          Environmental Policy 10/01/2025          \n",
              "3 cb8ed680    Japan           Technology           24/12/2023          \n",
              "4 333fff26    Australia       Technology           13/02/2025          \n",
              "5 27febb2d    Brazil          Technology           17/05/2024          \n",
              "6 018d372d    Germany         Technology           16/08/2024          \n",
              "  Idea.Title Idea.Category         Number.of.Votes Collaboration.Status\n",
              "1 Idea 2     Water Management      477             Cross-Regional Team \n",
              "2 Idea 3     Renewable Energy       48             Cross-Regional Team \n",
              "3 Idea 4     Circular Economy      330             Cross-Regional Team \n",
              "4 Idea 5     Circular Economy      428             Single Contributor  \n",
              "5 Idea 15    Sustainable Transport 425             Single Contributor  \n",
              "6 Idea 17    Water Management        2             Cross-Regional Team \n",
              "  Approval.Status Implementation.Status Security.Concern.Flag Vote.Level\n",
              "1 Approved        In Progress           No                    High      \n",
              "2 Approved        Not Started           Yes                   Low       \n",
              "3 Approved        Completed             No                    High      \n",
              "4 Approved        Not Started           No                    High      \n",
              "5 Approved        In Progress           No                    High      \n",
              "6 Approved        Completed             No                    Low       \n",
              "  Vote.Category\n",
              "1 High         \n",
              "2 Low          \n",
              "3 High         \n",
              "4 High         \n",
              "5 High         \n",
              "6 Low          "
            ]
          },
          "metadata": {}
        }
      ]
    },
    {
      "cell_type": "code",
      "source": [
        "#Example 2: Create a New Column – High/Low Vote Label\n",
        "data <- mutate(data, Vote.Category = ifelse(Number.of.Votes >= 300, \"High\", \"Low\"))\n",
        "head(data)\n",
        "#Explanation: Adds a new column Vote.Category to classify ideas as high- or low-voted."
      ],
      "metadata": {
        "colab": {
          "base_uri": "https://localhost:8080/",
          "height": 286
        },
        "id": "Ag5UapzwIdvE",
        "outputId": "ed6fb9f2-9566-4fc9-8107-83d676609683"
      },
      "execution_count": null,
      "outputs": [
        {
          "output_type": "display_data",
          "data": {
            "text/html": [
              "<table class=\"dataframe\">\n",
              "<caption>A data.frame: 6 × 13</caption>\n",
              "<thead>\n",
              "\t<tr><th></th><th scope=col>Employee.ID</th><th scope=col>Office.Location</th><th scope=col>Department</th><th scope=col>Idea.Submission.Date</th><th scope=col>Idea.Title</th><th scope=col>Idea.Category</th><th scope=col>Number.of.Votes</th><th scope=col>Collaboration.Status</th><th scope=col>Approval.Status</th><th scope=col>Implementation.Status</th><th scope=col>Security.Concern.Flag</th><th scope=col>Vote.Level</th><th scope=col>Vote.Category</th></tr>\n",
              "\t<tr><th></th><th scope=col>&lt;chr&gt;</th><th scope=col>&lt;chr&gt;</th><th scope=col>&lt;chr&gt;</th><th scope=col>&lt;chr&gt;</th><th scope=col>&lt;chr&gt;</th><th scope=col>&lt;chr&gt;</th><th scope=col>&lt;int&gt;</th><th scope=col>&lt;chr&gt;</th><th scope=col>&lt;chr&gt;</th><th scope=col>&lt;chr&gt;</th><th scope=col>&lt;chr&gt;</th><th scope=col>&lt;chr&gt;</th><th scope=col>&lt;chr&gt;</th></tr>\n",
              "</thead>\n",
              "<tbody>\n",
              "\t<tr><th scope=row>1</th><td>587b45d8</td><td>Germany  </td><td>Renewable Energy    </td><td>16/04/2024</td><td>Idea 1</td><td>Sustainable Transport</td><td>231</td><td>Single Contributor </td><td>Under Review</td><td>Not Started</td><td>No </td><td>Low </td><td>Low </td></tr>\n",
              "\t<tr><th scope=row>2</th><td>0d3e8b8e</td><td>Canada   </td><td>Renewable Energy    </td><td>14/01/2024</td><td>Idea 2</td><td>Water Management     </td><td>477</td><td>Cross-Regional Team</td><td>Approved    </td><td>In Progress</td><td>No </td><td>High</td><td>High</td></tr>\n",
              "\t<tr><th scope=row>3</th><td>fa012fe7</td><td>France   </td><td>Environmental Policy</td><td>10/01/2025</td><td>Idea 3</td><td>Renewable Energy     </td><td> 48</td><td>Cross-Regional Team</td><td>Approved    </td><td>Not Started</td><td>Yes</td><td>Low </td><td>Low </td></tr>\n",
              "\t<tr><th scope=row>4</th><td>cb8ed680</td><td>Japan    </td><td>Technology          </td><td>24/12/2023</td><td>Idea 4</td><td>Circular Economy     </td><td>330</td><td>Cross-Regional Team</td><td>Approved    </td><td>Completed  </td><td>No </td><td>High</td><td>High</td></tr>\n",
              "\t<tr><th scope=row>5</th><td>333fff26</td><td>Australia</td><td>Technology          </td><td>13/02/2025</td><td>Idea 5</td><td>Circular Economy     </td><td>428</td><td>Single Contributor </td><td>Approved    </td><td>Not Started</td><td>No </td><td>High</td><td>High</td></tr>\n",
              "\t<tr><th scope=row>6</th><td>a34ebb0f</td><td>India    </td><td>Technology          </td><td>08/09/2024</td><td>Idea 6</td><td>Circular Economy     </td><td>431</td><td>Single Contributor </td><td>Rejected    </td><td>Not Started</td><td>No </td><td>High</td><td>High</td></tr>\n",
              "</tbody>\n",
              "</table>\n"
            ],
            "text/markdown": "\nA data.frame: 6 × 13\n\n| <!--/--> | Employee.ID &lt;chr&gt; | Office.Location &lt;chr&gt; | Department &lt;chr&gt; | Idea.Submission.Date &lt;chr&gt; | Idea.Title &lt;chr&gt; | Idea.Category &lt;chr&gt; | Number.of.Votes &lt;int&gt; | Collaboration.Status &lt;chr&gt; | Approval.Status &lt;chr&gt; | Implementation.Status &lt;chr&gt; | Security.Concern.Flag &lt;chr&gt; | Vote.Level &lt;chr&gt; | Vote.Category &lt;chr&gt; |\n|---|---|---|---|---|---|---|---|---|---|---|---|---|---|\n| 1 | 587b45d8 | Germany   | Renewable Energy     | 16/04/2024 | Idea 1 | Sustainable Transport | 231 | Single Contributor  | Under Review | Not Started | No  | Low  | Low  |\n| 2 | 0d3e8b8e | Canada    | Renewable Energy     | 14/01/2024 | Idea 2 | Water Management      | 477 | Cross-Regional Team | Approved     | In Progress | No  | High | High |\n| 3 | fa012fe7 | France    | Environmental Policy | 10/01/2025 | Idea 3 | Renewable Energy      |  48 | Cross-Regional Team | Approved     | Not Started | Yes | Low  | Low  |\n| 4 | cb8ed680 | Japan     | Technology           | 24/12/2023 | Idea 4 | Circular Economy      | 330 | Cross-Regional Team | Approved     | Completed   | No  | High | High |\n| 5 | 333fff26 | Australia | Technology           | 13/02/2025 | Idea 5 | Circular Economy      | 428 | Single Contributor  | Approved     | Not Started | No  | High | High |\n| 6 | a34ebb0f | India     | Technology           | 08/09/2024 | Idea 6 | Circular Economy      | 431 | Single Contributor  | Rejected     | Not Started | No  | High | High |\n\n",
            "text/latex": "A data.frame: 6 × 13\n\\begin{tabular}{r|lllllllllllll}\n  & Employee.ID & Office.Location & Department & Idea.Submission.Date & Idea.Title & Idea.Category & Number.of.Votes & Collaboration.Status & Approval.Status & Implementation.Status & Security.Concern.Flag & Vote.Level & Vote.Category\\\\\n  & <chr> & <chr> & <chr> & <chr> & <chr> & <chr> & <int> & <chr> & <chr> & <chr> & <chr> & <chr> & <chr>\\\\\n\\hline\n\t1 & 587b45d8 & Germany   & Renewable Energy     & 16/04/2024 & Idea 1 & Sustainable Transport & 231 & Single Contributor  & Under Review & Not Started & No  & Low  & Low \\\\\n\t2 & 0d3e8b8e & Canada    & Renewable Energy     & 14/01/2024 & Idea 2 & Water Management      & 477 & Cross-Regional Team & Approved     & In Progress & No  & High & High\\\\\n\t3 & fa012fe7 & France    & Environmental Policy & 10/01/2025 & Idea 3 & Renewable Energy      &  48 & Cross-Regional Team & Approved     & Not Started & Yes & Low  & Low \\\\\n\t4 & cb8ed680 & Japan     & Technology           & 24/12/2023 & Idea 4 & Circular Economy      & 330 & Cross-Regional Team & Approved     & Completed   & No  & High & High\\\\\n\t5 & 333fff26 & Australia & Technology           & 13/02/2025 & Idea 5 & Circular Economy      & 428 & Single Contributor  & Approved     & Not Started & No  & High & High\\\\\n\t6 & a34ebb0f & India     & Technology           & 08/09/2024 & Idea 6 & Circular Economy      & 431 & Single Contributor  & Rejected     & Not Started & No  & High & High\\\\\n\\end{tabular}\n",
            "text/plain": [
              "  Employee.ID Office.Location Department           Idea.Submission.Date\n",
              "1 587b45d8    Germany         Renewable Energy     16/04/2024          \n",
              "2 0d3e8b8e    Canada          Renewable Energy     14/01/2024          \n",
              "3 fa012fe7    France          Environmental Policy 10/01/2025          \n",
              "4 cb8ed680    Japan           Technology           24/12/2023          \n",
              "5 333fff26    Australia       Technology           13/02/2025          \n",
              "6 a34ebb0f    India           Technology           08/09/2024          \n",
              "  Idea.Title Idea.Category         Number.of.Votes Collaboration.Status\n",
              "1 Idea 1     Sustainable Transport 231             Single Contributor  \n",
              "2 Idea 2     Water Management      477             Cross-Regional Team \n",
              "3 Idea 3     Renewable Energy       48             Cross-Regional Team \n",
              "4 Idea 4     Circular Economy      330             Cross-Regional Team \n",
              "5 Idea 5     Circular Economy      428             Single Contributor  \n",
              "6 Idea 6     Circular Economy      431             Single Contributor  \n",
              "  Approval.Status Implementation.Status Security.Concern.Flag Vote.Level\n",
              "1 Under Review    Not Started           No                    Low       \n",
              "2 Approved        In Progress           No                    High      \n",
              "3 Approved        Not Started           Yes                   Low       \n",
              "4 Approved        Completed             No                    High      \n",
              "5 Approved        Not Started           No                    High      \n",
              "6 Rejected        Not Started           No                    High      \n",
              "  Vote.Category\n",
              "1 Low          \n",
              "2 High         \n",
              "3 Low          \n",
              "4 High         \n",
              "5 High         \n",
              "6 High         "
            ]
          },
          "metadata": {}
        }
      ]
    },
    {
      "cell_type": "code",
      "source": [
        "#Example 3: Sort Ideas by Number of Votes\n",
        "sorted_data <- arrange(data, desc(Number.of.Votes))\n",
        "head(sorted_data)\n",
        "\n",
        "#Explanation: Orders the dataset so that the most voted ideas appear at the top."
      ],
      "metadata": {
        "colab": {
          "base_uri": "https://localhost:8080/",
          "height": 286
        },
        "id": "PrpJHYHyIh2R",
        "outputId": "0086eea1-5a06-4510-f834-424ed1df0e47"
      },
      "execution_count": null,
      "outputs": [
        {
          "output_type": "display_data",
          "data": {
            "text/html": [
              "<table class=\"dataframe\">\n",
              "<caption>A data.frame: 6 × 13</caption>\n",
              "<thead>\n",
              "\t<tr><th></th><th scope=col>Employee.ID</th><th scope=col>Office.Location</th><th scope=col>Department</th><th scope=col>Idea.Submission.Date</th><th scope=col>Idea.Title</th><th scope=col>Idea.Category</th><th scope=col>Number.of.Votes</th><th scope=col>Collaboration.Status</th><th scope=col>Approval.Status</th><th scope=col>Implementation.Status</th><th scope=col>Security.Concern.Flag</th><th scope=col>Vote.Level</th><th scope=col>Vote.Category</th></tr>\n",
              "\t<tr><th></th><th scope=col>&lt;chr&gt;</th><th scope=col>&lt;chr&gt;</th><th scope=col>&lt;chr&gt;</th><th scope=col>&lt;chr&gt;</th><th scope=col>&lt;chr&gt;</th><th scope=col>&lt;chr&gt;</th><th scope=col>&lt;int&gt;</th><th scope=col>&lt;chr&gt;</th><th scope=col>&lt;chr&gt;</th><th scope=col>&lt;chr&gt;</th><th scope=col>&lt;chr&gt;</th><th scope=col>&lt;chr&gt;</th><th scope=col>&lt;chr&gt;</th></tr>\n",
              "</thead>\n",
              "<tbody>\n",
              "\t<tr><th scope=row>1</th><td>f2105213</td><td>USA   </td><td>Infrastructure   </td><td>20/12/2024</td><td>Idea 422 </td><td>Water Management     </td><td>500</td><td>Single Contributor </td><td>Rejected</td><td>Not Started</td><td>No </td><td>High</td><td>High</td></tr>\n",
              "\t<tr><th scope=row>2</th><td>18b9a7b4</td><td>China </td><td>Infrastructure   </td><td>17/06/2023</td><td>Idea 915 </td><td>Sustainable Transport</td><td>500</td><td>Cross-Regional Team</td><td>Rejected</td><td>Not Started</td><td>No </td><td>High</td><td>High</td></tr>\n",
              "\t<tr><th scope=row>3</th><td>7d239d23</td><td>USA   </td><td>Urban Development</td><td>18/10/2024</td><td>Idea 1020</td><td>Circular Economy     </td><td>500</td><td>Cross-Regional Team</td><td>Approved</td><td>In Progress</td><td>Yes</td><td>High</td><td>High</td></tr>\n",
              "\t<tr><th scope=row>4</th><td>c9a9b03d</td><td>Brazil</td><td>Research         </td><td>09/08/2024</td><td>Idea 1146</td><td>Renewable Energy     </td><td>500</td><td>Single Contributor </td><td>Rejected</td><td>Not Started</td><td>No </td><td>High</td><td>High</td></tr>\n",
              "\t<tr><th scope=row>5</th><td>7fde2f60</td><td>France</td><td>Infrastructure   </td><td>06/01/2024</td><td>Idea 1323</td><td>Circular Economy     </td><td>500</td><td>Single Contributor </td><td>Rejected</td><td>Not Started</td><td>No </td><td>High</td><td>High</td></tr>\n",
              "\t<tr><th scope=row>6</th><td>be71d545</td><td>Brazil</td><td>Technology       </td><td>20/01/2025</td><td>Idea 2573</td><td>Renewable Energy     </td><td>500</td><td>Single Contributor </td><td>Rejected</td><td>Not Started</td><td>No </td><td>High</td><td>High</td></tr>\n",
              "</tbody>\n",
              "</table>\n"
            ],
            "text/markdown": "\nA data.frame: 6 × 13\n\n| <!--/--> | Employee.ID &lt;chr&gt; | Office.Location &lt;chr&gt; | Department &lt;chr&gt; | Idea.Submission.Date &lt;chr&gt; | Idea.Title &lt;chr&gt; | Idea.Category &lt;chr&gt; | Number.of.Votes &lt;int&gt; | Collaboration.Status &lt;chr&gt; | Approval.Status &lt;chr&gt; | Implementation.Status &lt;chr&gt; | Security.Concern.Flag &lt;chr&gt; | Vote.Level &lt;chr&gt; | Vote.Category &lt;chr&gt; |\n|---|---|---|---|---|---|---|---|---|---|---|---|---|---|\n| 1 | f2105213 | USA    | Infrastructure    | 20/12/2024 | Idea 422  | Water Management      | 500 | Single Contributor  | Rejected | Not Started | No  | High | High |\n| 2 | 18b9a7b4 | China  | Infrastructure    | 17/06/2023 | Idea 915  | Sustainable Transport | 500 | Cross-Regional Team | Rejected | Not Started | No  | High | High |\n| 3 | 7d239d23 | USA    | Urban Development | 18/10/2024 | Idea 1020 | Circular Economy      | 500 | Cross-Regional Team | Approved | In Progress | Yes | High | High |\n| 4 | c9a9b03d | Brazil | Research          | 09/08/2024 | Idea 1146 | Renewable Energy      | 500 | Single Contributor  | Rejected | Not Started | No  | High | High |\n| 5 | 7fde2f60 | France | Infrastructure    | 06/01/2024 | Idea 1323 | Circular Economy      | 500 | Single Contributor  | Rejected | Not Started | No  | High | High |\n| 6 | be71d545 | Brazil | Technology        | 20/01/2025 | Idea 2573 | Renewable Energy      | 500 | Single Contributor  | Rejected | Not Started | No  | High | High |\n\n",
            "text/latex": "A data.frame: 6 × 13\n\\begin{tabular}{r|lllllllllllll}\n  & Employee.ID & Office.Location & Department & Idea.Submission.Date & Idea.Title & Idea.Category & Number.of.Votes & Collaboration.Status & Approval.Status & Implementation.Status & Security.Concern.Flag & Vote.Level & Vote.Category\\\\\n  & <chr> & <chr> & <chr> & <chr> & <chr> & <chr> & <int> & <chr> & <chr> & <chr> & <chr> & <chr> & <chr>\\\\\n\\hline\n\t1 & f2105213 & USA    & Infrastructure    & 20/12/2024 & Idea 422  & Water Management      & 500 & Single Contributor  & Rejected & Not Started & No  & High & High\\\\\n\t2 & 18b9a7b4 & China  & Infrastructure    & 17/06/2023 & Idea 915  & Sustainable Transport & 500 & Cross-Regional Team & Rejected & Not Started & No  & High & High\\\\\n\t3 & 7d239d23 & USA    & Urban Development & 18/10/2024 & Idea 1020 & Circular Economy      & 500 & Cross-Regional Team & Approved & In Progress & Yes & High & High\\\\\n\t4 & c9a9b03d & Brazil & Research          & 09/08/2024 & Idea 1146 & Renewable Energy      & 500 & Single Contributor  & Rejected & Not Started & No  & High & High\\\\\n\t5 & 7fde2f60 & France & Infrastructure    & 06/01/2024 & Idea 1323 & Circular Economy      & 500 & Single Contributor  & Rejected & Not Started & No  & High & High\\\\\n\t6 & be71d545 & Brazil & Technology        & 20/01/2025 & Idea 2573 & Renewable Energy      & 500 & Single Contributor  & Rejected & Not Started & No  & High & High\\\\\n\\end{tabular}\n",
            "text/plain": [
              "  Employee.ID Office.Location Department        Idea.Submission.Date Idea.Title\n",
              "1 f2105213    USA             Infrastructure    20/12/2024           Idea 422  \n",
              "2 18b9a7b4    China           Infrastructure    17/06/2023           Idea 915  \n",
              "3 7d239d23    USA             Urban Development 18/10/2024           Idea 1020 \n",
              "4 c9a9b03d    Brazil          Research          09/08/2024           Idea 1146 \n",
              "5 7fde2f60    France          Infrastructure    06/01/2024           Idea 1323 \n",
              "6 be71d545    Brazil          Technology        20/01/2025           Idea 2573 \n",
              "  Idea.Category         Number.of.Votes Collaboration.Status Approval.Status\n",
              "1 Water Management      500             Single Contributor   Rejected       \n",
              "2 Sustainable Transport 500             Cross-Regional Team  Rejected       \n",
              "3 Circular Economy      500             Cross-Regional Team  Approved       \n",
              "4 Renewable Energy      500             Single Contributor   Rejected       \n",
              "5 Circular Economy      500             Single Contributor   Rejected       \n",
              "6 Renewable Energy      500             Single Contributor   Rejected       \n",
              "  Implementation.Status Security.Concern.Flag Vote.Level Vote.Category\n",
              "1 Not Started           No                    High       High         \n",
              "2 Not Started           No                    High       High         \n",
              "3 In Progress           Yes                   High       High         \n",
              "4 Not Started           No                    High       High         \n",
              "5 Not Started           No                    High       High         \n",
              "6 Not Started           No                    High       High         "
            ]
          },
          "metadata": {}
        }
      ]
    },
    {
      "cell_type": "code",
      "source": [
        "\n",
        "#Example 4: Select Only Key Columns\n",
        "selected <- select(data, Employee.ID, Department, Idea.Title, Number.of.Votes)\n",
        "head(selected)\n",
        "\n",
        "#Explanation: Focuses analysis only on specific columns of interest."
      ],
      "metadata": {
        "colab": {
          "base_uri": "https://localhost:8080/",
          "height": 286
        },
        "id": "SdlnRa0_Il1L",
        "outputId": "e21759c5-6581-443d-d411-4ff68e6432e8"
      },
      "execution_count": null,
      "outputs": [
        {
          "output_type": "display_data",
          "data": {
            "text/html": [
              "<table class=\"dataframe\">\n",
              "<caption>A data.frame: 6 × 4</caption>\n",
              "<thead>\n",
              "\t<tr><th></th><th scope=col>Employee.ID</th><th scope=col>Department</th><th scope=col>Idea.Title</th><th scope=col>Number.of.Votes</th></tr>\n",
              "\t<tr><th></th><th scope=col>&lt;chr&gt;</th><th scope=col>&lt;chr&gt;</th><th scope=col>&lt;chr&gt;</th><th scope=col>&lt;int&gt;</th></tr>\n",
              "</thead>\n",
              "<tbody>\n",
              "\t<tr><th scope=row>1</th><td>587b45d8</td><td>Renewable Energy    </td><td>Idea 1</td><td>231</td></tr>\n",
              "\t<tr><th scope=row>2</th><td>0d3e8b8e</td><td>Renewable Energy    </td><td>Idea 2</td><td>477</td></tr>\n",
              "\t<tr><th scope=row>3</th><td>fa012fe7</td><td>Environmental Policy</td><td>Idea 3</td><td> 48</td></tr>\n",
              "\t<tr><th scope=row>4</th><td>cb8ed680</td><td>Technology          </td><td>Idea 4</td><td>330</td></tr>\n",
              "\t<tr><th scope=row>5</th><td>333fff26</td><td>Technology          </td><td>Idea 5</td><td>428</td></tr>\n",
              "\t<tr><th scope=row>6</th><td>a34ebb0f</td><td>Technology          </td><td>Idea 6</td><td>431</td></tr>\n",
              "</tbody>\n",
              "</table>\n"
            ],
            "text/markdown": "\nA data.frame: 6 × 4\n\n| <!--/--> | Employee.ID &lt;chr&gt; | Department &lt;chr&gt; | Idea.Title &lt;chr&gt; | Number.of.Votes &lt;int&gt; |\n|---|---|---|---|---|\n| 1 | 587b45d8 | Renewable Energy     | Idea 1 | 231 |\n| 2 | 0d3e8b8e | Renewable Energy     | Idea 2 | 477 |\n| 3 | fa012fe7 | Environmental Policy | Idea 3 |  48 |\n| 4 | cb8ed680 | Technology           | Idea 4 | 330 |\n| 5 | 333fff26 | Technology           | Idea 5 | 428 |\n| 6 | a34ebb0f | Technology           | Idea 6 | 431 |\n\n",
            "text/latex": "A data.frame: 6 × 4\n\\begin{tabular}{r|llll}\n  & Employee.ID & Department & Idea.Title & Number.of.Votes\\\\\n  & <chr> & <chr> & <chr> & <int>\\\\\n\\hline\n\t1 & 587b45d8 & Renewable Energy     & Idea 1 & 231\\\\\n\t2 & 0d3e8b8e & Renewable Energy     & Idea 2 & 477\\\\\n\t3 & fa012fe7 & Environmental Policy & Idea 3 &  48\\\\\n\t4 & cb8ed680 & Technology           & Idea 4 & 330\\\\\n\t5 & 333fff26 & Technology           & Idea 5 & 428\\\\\n\t6 & a34ebb0f & Technology           & Idea 6 & 431\\\\\n\\end{tabular}\n",
            "text/plain": [
              "  Employee.ID Department           Idea.Title Number.of.Votes\n",
              "1 587b45d8    Renewable Energy     Idea 1     231            \n",
              "2 0d3e8b8e    Renewable Energy     Idea 2     477            \n",
              "3 fa012fe7    Environmental Policy Idea 3      48            \n",
              "4 cb8ed680    Technology           Idea 4     330            \n",
              "5 333fff26    Technology           Idea 5     428            \n",
              "6 a34ebb0f    Technology           Idea 6     431            "
            ]
          },
          "metadata": {}
        }
      ]
    },
    {
      "cell_type": "code",
      "source": [
        "#Example 5: Summarise – Average Votes by Department\n",
        "avg_votes <- data %>%\n",
        "  group_by(Department) %>%\n",
        "  summarise(Avg_Votes = mean(Number.of.Votes))\n",
        "print(avg_votes)\n",
        "\n",
        "#Explanation: Shows how many votes ideas get on average in each department."
      ],
      "metadata": {
        "colab": {
          "base_uri": "https://localhost:8080/"
        },
        "id": "uv5A16LrIpem",
        "outputId": "6261efc7-575c-4174-be40-95fcf7c3d5b3"
      },
      "execution_count": null,
      "outputs": [
        {
          "output_type": "stream",
          "name": "stdout",
          "text": [
            "\u001b[90m# A tibble: 6 × 2\u001b[39m\n",
            "  Department           Avg_Votes\n",
            "  \u001b[3m\u001b[90m<chr>\u001b[39m\u001b[23m                    \u001b[3m\u001b[90m<dbl>\u001b[39m\u001b[23m\n",
            "\u001b[90m1\u001b[39m Environmental Policy      253.\n",
            "\u001b[90m2\u001b[39m Infrastructure            244.\n",
            "\u001b[90m3\u001b[39m Renewable Energy          247.\n",
            "\u001b[90m4\u001b[39m Research                  249.\n",
            "\u001b[90m5\u001b[39m Technology                248.\n",
            "\u001b[90m6\u001b[39m Urban Development         251.\n"
          ]
        }
      ]
    },
    {
      "cell_type": "code",
      "source": [
        "#Example 1: Bar Chart – Idea Count by Department\n",
        "ggplot(data, aes(x = Department)) +\n",
        "  geom_bar(fill = \"skyblue\") +\n",
        "  labs(title = \"Number of Ideas Submitted per Department\", x = \"Department\", y = \"Count\") +\n",
        "  theme(axis.text.x = element_text(angle = 45, hjust = 1))\n",
        "\n",
        "#Why it’s useful: Shows which departments are most active in idea submission. Helps management identify highly engaged vs. underperforming teams.\n",
        "\n",
        "\n"
      ],
      "metadata": {
        "colab": {
          "base_uri": "https://localhost:8080/",
          "height": 437
        },
        "id": "d6PJ3lueKKq5",
        "outputId": "0358637a-5fa6-49e5-a9e0-1394ea95de3c"
      },
      "execution_count": null,
      "outputs": [
        {
          "output_type": "display_data",
          "data": {
            "text/plain": [
              "plot without title"
            ],
            "image/png": "[encoded data removed]"
          },
          "metadata": {
            "image/png": {
              "width": 420,
              "height": 420
            }
          }
        }
      ]
    },
    {
      "cell_type": "code",
      "source": [
        "#Example 2: Boxplot – Vote Distribution by Idea Category\n",
        "ggplot(data, aes(x = `Idea.Category`, y = `Number.of.Votes`)) +\n",
        "  geom_boxplot(fill = \"orange\") +\n",
        "  labs(title = \"Vote Distribution by Idea Category\", x = \"Idea Category\", y = \"Number of Votes\") +\n",
        "  theme(axis.text.x = element_text(angle = 45, hjust = 1))\n",
        "\n",
        "#Why it’s useful: Highlights which types of ideas tend to get the most votes. Boxplots are great for spotting outliers and comparing spreads across groups.\n",
        "\n"
      ],
      "metadata": {
        "colab": {
          "base_uri": "https://localhost:8080/",
          "height": 437
        },
        "id": "cMVdD8HtKgJx",
        "outputId": "435b75bb-55ef-4786-c067-cfb457f82c59"
      },
      "execution_count": null,
      "outputs": [
        {
          "output_type": "display_data",
          "data": {
            "text/plain": [
              "plot without title"
            ],
            "image/png": "[encoded data removed]"
          },
          "metadata": {
            "image/png": {
              "width": 420,
              "height": 420
            }
          }
        }
      ]
    },
    {
      "cell_type": "code",
      "source": [
        "#Example 3: Pie Chart – Approval Status Distribution\n",
        "library(dplyr)\n",
        "\n",
        "# Prepare data for pie chart\n",
        "approval_data <- data %>%\n",
        "  count(Approval.Status)\n",
        "\n",
        "# Plot\n",
        "ggplot(approval_data, aes(x = \"\", y = n, fill = Approval.Status)) +\n",
        "  geom_col(width = 1) +\n",
        "  coord_polar(\"y\") +\n",
        "  labs(title = \"Distribution of Approval Status\") +\n",
        "  theme_void()\n",
        "\n",
        "#Why it’s useful: Visualizes the proportion of ideas that are approved, rejected, or pending. Helps assess the effectiveness and fairness of the evaluation process.\n",
        "\n"
      ],
      "metadata": {
        "colab": {
          "base_uri": "https://localhost:8080/",
          "height": 437
        },
        "id": "F5kvtNYpKunk",
        "outputId": "dc6b31cc-a270-4528-e4e9-d1ef50fddbb2"
      },
      "execution_count": null,
      "outputs": [
        {
          "output_type": "display_data",
          "data": {
            "text/plain": [
              "plot without title"
            ],
            "image/png": "[encoded data removed]"
          },
          "metadata": {
            "image/png": {
              "width": 420,
              "height": 420
            }
          }
        }
      ]
    }
  ]
}